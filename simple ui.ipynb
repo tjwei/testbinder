{
 "cells": [
  {
   "cell_type": "code",
   "execution_count": 1,
   "id": "01f8bbdb-2559-4c40-98d7-bd0c7bc9bbf4",
   "metadata": {},
   "outputs": [],
   "source": [
    "import ipywidgets as ipw"
   ]
  },
  {
   "cell_type": "code",
   "execution_count": 25,
   "id": "08c0ee2e-9a97-49dd-b947-5a46e6fd7e27",
   "metadata": {},
   "outputs": [],
   "source": [
    "import IPython.display as ipd\n",
    "from IPython.display import display, clear_output"
   ]
  },
  {
   "cell_type": "code",
   "execution_count": 4,
   "id": "8469038f-199e-45ff-8434-0ddef75207e6",
   "metadata": {},
   "outputs": [],
   "source": [
    "import PIL.Image \n",
    "ipd.display()"
   ]
  },
  {
   "cell_type": "code",
   "execution_count": 9,
   "id": "29aa6211-abdc-4b79-97fa-d8d137243d9c",
   "metadata": {},
   "outputs": [],
   "source": [
    "import numpy as np\n",
    "a = np.random.randint(0, 255, size=(256, 256, 3)).astype('uint8')\n",
    "a = PIL.Image.fromarray(a)"
   ]
  },
  {
   "cell_type": "code",
   "execution_count": 31,
   "id": "57306e71-f8c5-48fe-aa69-d5100681e15d",
   "metadata": {},
   "outputs": [
    {
     "data": {
      "image/png": "[encoded data removed]",
      "text/plain": [
       "<PIL.Image.Image image mode=RGB size=245x20 at 0x7FB61ADA40A0>"
      ]
     },
     "metadata": {},
     "output_type": "display_data"
    }
   ],
   "source": [
    "import time\n",
    "a = np.random.randint(0, 255, size=(256, 256, 3)).astype('uint8')\n",
    "for i in range(1, 50):\n",
    "    a2= PIL.Image.fromarray(a).resize((5*i, 20))\n",
    "    clear_output()\n",
    "    display(a2)\n",
    "    time.sleep(0.2)"
   ]
  },
  {
   "cell_type": "code",
   "execution_count": 34,
   "id": "be675b3a-5e98-48eb-8c3d-cb36760a760d",
   "metadata": {},
   "outputs": [
    {
     "data": {
      "text/plain": [
       "array([0., 0., 0., 0., 0., 0., 0., 0., 0., 0.])"
      ]
     },
     "metadata": {},
     "output_type": "display_data"
    }
   ],
   "source": [
    "display(np.zeros(10))"
   ]
  },
  {
   "cell_type": "code",
   "execution_count": 35,
   "id": "d291ef26-d1a7-4a2c-b2c1-05bfe9afd0e7",
   "metadata": {},
   "outputs": [
    {
     "data": {
      "text/plain": [
       "IPython.lib.display.Audio"
      ]
     },
     "execution_count": 35,
     "metadata": {},
     "output_type": "execute_result"
    }
   ],
   "source": [
    "ipd.Audio"
   ]
  },
  {
   "cell_type": "code",
   "execution_count": 56,
   "id": "1b5ec1e2-a505-4fc3-9e41-5a8d6fc831ea",
   "metadata": {},
   "outputs": [
    {
     "data": {
      "text/html": [
       "\n",
       "<h1> This is an <b>h1</b> </h1>\n",
       "<div>aaaa</div>\n",
       "<table>\n",
       "<tbody>\n",
       "<tr><td>x0</td><td>y0</td><td>z0</td></tr><tr><td>x1</td><td>y1</td><td>z1</td></tr><tr><td>x2</td><td>y2</td><td>z2</td></tr><tr><td>x3</td><td>y3</td><td>z3</td></tr><tr><td>x4</td><td>y4</td><td>z4</td></tr><tr><td>x5</td><td>y5</td><td>z5</td></tr><tr><td>x6</td><td>y6</td><td>z6</td></tr><tr><td>x7</td><td>y7</td><td>z7</td></tr><tr><td>x8</td><td>y8</td><td>z8</td></tr><tr><td>x9</td><td>y9</td><td>z9</td></tr>\n",
       "</tbody>\n",
       "</table>\n"
      ],
      "text/plain": [
       "<IPython.core.display.HTML object>"
      ]
     },
     "execution_count": 56,
     "metadata": {},
     "output_type": "execute_result"
    }
   ],
   "source": [
    "rows = \"\".join(f\"<tr><td>x{i}</td><td>y{i}</td><td>z{i}</td></tr>\" for i in range(10))\n",
    "ipd.HTML(f\"\"\"\n",
    "<h1> This is an <b>h1</b> </h1>\n",
    "<div>aaaa</div>\n",
    "<table>\n",
    "<tbody>\n",
    "{rows}\n",
    "</tbody>\n",
    "</table>\n",
    "\"\"\")"
   ]
  },
  {
   "cell_type": "code",
   "execution_count": 65,
   "id": "24de9589-85cb-46fb-a7f2-b6e6758588f2",
   "metadata": {},
   "outputs": [
    {
     "data": {
      "application/vnd.jupyter.widget-view+json": {
       "model_id": "1f352ab65f6e4a2c9b3a21751418cbe7",
       "version_major": 2,
       "version_minor": 0
      },
      "text/plain": [
       "Image(value=b'')"
      ]
     },
     "metadata": {},
     "output_type": "display_data"
    }
   ],
   "source": [
    "wim = ipw.Image()\n",
    "wim"
   ]
  },
  {
   "cell_type": "code",
   "execution_count": 115,
   "id": "9b87861e-59a6-4d4e-afda-eed2896ba962",
   "metadata": {},
   "outputs": [
    {
     "data": {
      "application/vnd.jupyter.widget-view+json": {
       "model_id": "f4e7e02f794e4cceb91b033ea389dc83",
       "version_major": 2,
       "version_minor": 0
      },
      "text/plain": [
       "HBox(children=(VBox(children=(IntSlider(value=100, description='x', max=200), IntSlider(value=100, description…"
      ]
     },
     "metadata": {},
     "output_type": "display_data"
    }
   ],
   "source": [
    "ips = [ipw.IntSlider(value=100, min=0, max=200, description=s) for s in \"xywh\"]\n",
    "colors = [ipw.IntSlider(value=100, min=0, max=255, description=s) for s in \"RGB\"]\n",
    "def on_value_change(change):\n",
    "    draw_box(*(w.value for w in ips),  tuple((w.value for w in colors)))\n",
    "on_value_change(0)\n",
    "for w in ips+colors:\n",
    "    w.observe(on_value_change, names='value')\n",
    "ipw.HBox([ipw.VBox(ips+colors), wim])"
   ]
  },
  {
   "cell_type": "code",
   "execution_count": 105,
   "id": "58b8d38d-d685-4292-8a04-cf180d3b3f30",
   "metadata": {},
   "outputs": [],
   "source": [
    "draw_box(*(w.value for w in ips), (255,0,0))"
   ]
  },
  {
   "cell_type": "code",
   "execution_count": 86,
   "id": "a2947335-9351-47d0-b526-ac1a40585661",
   "metadata": {},
   "outputs": [],
   "source": [
    "from io import BytesIO\n",
    "def draw_box(x,y,w,h, color):\n",
    "    aimg = np.zeros((200,200,3), dtype=np.uint8)\n",
    "    aimg[y:y+h, x:x+w] = color\n",
    "    wim.format='png'\n",
    "    bio = BytesIO()\n",
    "    PIL.Image.fromarray(aimg).save(bio, format='png')\n",
    "    wim.value = bio.getvalue()\n",
    "for i in range(100):\n",
    "    draw_box(i%200,i%200,50,50, (255,255,0))\n",
    "    time.sleep(0.1)"
   ]
  },
  {
   "cell_type": "code",
   "execution_count": 129,
   "id": "e71cd069-05a6-4681-9444-2a1ae8191b15",
   "metadata": {},
   "outputs": [
    {
     "data": {
      "application/vnd.jupyter.widget-view+json": {
       "model_id": "afc95799846044e88744b26c69fd4004",
       "version_major": 2,
       "version_minor": 0
      },
      "text/plain": [
       "interactive(children=(IntSlider(value=50, description='x'), Checkbox(value=True, description='y'), Dropdown(de…"
      ]
     },
     "metadata": {},
     "output_type": "display_data"
    }
   ],
   "source": [
    "@ipw.interact(x=(0, 100), y=True, z=[('aaa', 0), ('bbb', 99), ('ccc', 11) ])\n",
    "def f(x, y, z):\n",
    "    display(y, z)\n",
    "    return x"
   ]
  },
  {
   "cell_type": "code",
   "execution_count": null,
   "id": "3ed53515-e026-49c0-9dcd-94b6665f64a2",
   "metadata": {},
   "outputs": [],
   "source": []
  }
 ],
 "metadata": {
  "kernelspec": {
   "display_name": "Python 3 (ipykernel)",
   "language": "python",
   "name": "python3"
  },
  "language_info": {
   "codemirror_mode": {
    "name": "ipython",
    "version": 3
   },
   "file_extension": ".py",
   "mimetype": "text/x-python",
   "name": "python",
   "nbconvert_exporter": "python",
   "pygments_lexer": "ipython3",
   "version": "3.8.5"
  }
 },
 "nbformat": 4,
 "nbformat_minor": 5
}
